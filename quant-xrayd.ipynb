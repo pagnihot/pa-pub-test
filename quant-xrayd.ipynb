{
  "nbformat": 4,
  "nbformat_minor": 0,
  "metadata": {
    "colab": {
      "provenance": [],
      "include_colab_link": true
    },
    "kernelspec": {
      "name": "python3",
      "display_name": "Python 3"
    },
    "language_info": {
      "name": "python"
    }
  },
  "cells": [
    {
      "cell_type": "markdown",
      "metadata": {
        "id": "view-in-github",
        "colab_type": "text"
      },
      "source": [
        "<a href=\"https://colab.research.google.com/github/pagnihot/pa-pub-test/blob/main/quant-xrayd.ipynb\" target=\"_parent\"><img src=\"https://colab.research.google.com/assets/colab-badge.svg\" alt=\"Open In Colab\"/></a>"
      ]
    },
    {
      "cell_type": "code",
      "execution_count": null,
      "metadata": {
        "id": "UVcD-LpNg0qE"
      },
      "outputs": [],
      "source": [
        "try:\n",
        "    from google.colab import auth\n",
        "    GOOGLE_COLAB = True\n",
        "except ImportError:\n",
        "    GOOGLE_COLAB = False"
      ]
    },
    {
      "cell_type": "code",
      "source": [
        "import numpy as np\n",
        "import pandas as pd\n",
        "\n",
        "import dask.dataframe as dd\n",
        "import dask.array as da\n",
        "import dask.bag as db"
      ],
      "metadata": {
        "id": "TQRrhvMY1gEm"
      },
      "execution_count": null,
      "outputs": []
    },
    {
      "cell_type": "code",
      "source": [
        "index = pd.date_range(\"2021-09-01\", periods=2400, freq=\"1h\")\n",
        "df = pd.DataFrame({\"a\": np.arange(2400), \"b\": list(\"abcaddbe\" * 300)}, index=index)\n",
        "ddf = dd.from_pandas(df, npartitions=10)"
      ],
      "metadata": {
        "id": "rk6q9lo-1kop"
      },
      "execution_count": null,
      "outputs": []
    },
    {
      "cell_type": "code",
      "source": [
        "ddf"
      ],
      "metadata": {
        "id": "2PTjPGuG14RM"
      },
      "execution_count": null,
      "outputs": []
    },
    {
      "cell_type": "code",
      "source": [
        "ddf.divisions"
      ],
      "metadata": {
        "id": "W-6IHq-m2B9d"
      },
      "execution_count": null,
      "outputs": []
    },
    {
      "cell_type": "code",
      "source": [
        "ddf.partitions[1]"
      ],
      "metadata": {
        "id": "utnkIreH2azm"
      },
      "execution_count": null,
      "outputs": []
    },
    {
      "cell_type": "code",
      "source": [
        "ddf[\"2021-10-01\": \"2021-10-09 5:00\"].compute()"
      ],
      "metadata": {
        "id": "H21_sERq2z7t"
      },
      "execution_count": null,
      "outputs": []
    },
    {
      "cell_type": "code",
      "source": [
        "ddf.a.mean()"
      ],
      "metadata": {
        "id": "pwbKM13K26tW"
      },
      "execution_count": null,
      "outputs": []
    },
    {
      "cell_type": "code",
      "source": [
        "ddf.a.mean().compute()"
      ],
      "metadata": {
        "id": "FGpJXZ3J2-6p"
      },
      "execution_count": null,
      "outputs": []
    },
    {
      "cell_type": "code",
      "source": [
        "ddf.b.unique()"
      ],
      "metadata": {
        "id": "KBT6rPEQ3Bdz"
      },
      "execution_count": null,
      "outputs": []
    },
    {
      "cell_type": "code",
      "source": [
        "ddf.b.unique().compute()"
      ],
      "metadata": {
        "id": "7jew96wz3KS_"
      },
      "execution_count": null,
      "outputs": []
    },
    {
      "cell_type": "code",
      "source": [
        "result = ddf[\"2021-10-01\": \"2021-10-09 5:00\"].a.cumsum() - 100\n",
        "result"
      ],
      "metadata": {
        "id": "xAKqv4bM3LuP"
      },
      "execution_count": null,
      "outputs": []
    },
    {
      "cell_type": "code",
      "source": [
        "result.dask"
      ],
      "metadata": {
        "id": "8WTn_mcg3PEM"
      },
      "execution_count": null,
      "outputs": []
    },
    {
      "cell_type": "code",
      "source": [
        "result.visualize()"
      ],
      "metadata": {
        "id": "XZSOcny33Rzo"
      },
      "execution_count": null,
      "outputs": []
    },
    {
      "cell_type": "code",
      "source": [
        "from dask.distributed import Client\n",
        "client = Client()\n",
        "client"
      ],
      "metadata": {
        "id": "Rqmw6Oru3oZ_"
      },
      "execution_count": null,
      "outputs": []
    }
  ]
}
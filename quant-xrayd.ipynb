{
  "nbformat": 4,
  "nbformat_minor": 0,
  "metadata": {
    "colab": {
      "provenance": [],
      "include_colab_link": true
    },
    "kernelspec": {
      "name": "python3",
      "display_name": "Python 3"
    },
    "language_info": {
      "name": "python"
    }
  },
  "cells": [
    {
      "cell_type": "markdown",
      "metadata": {
        "id": "view-in-github",
        "colab_type": "text"
      },
      "source": [
        "<a href=\"https://colab.research.google.com/github/pagnihot/pa-pub-test/blob/main/quant-xrayd.ipynb\" target=\"_parent\"><img src=\"https://colab.research.google.com/assets/colab-badge.svg\" alt=\"Open In Colab\"/></a>"
      ]
    },
    {
      "cell_type": "code",
      "execution_count": 6,
      "metadata": {
        "id": "UVcD-LpNg0qE"
      },
      "outputs": [],
      "source": [
        "try:\n",
        "    from google.colab import auth\n",
        "    GOOGLE_COLAB = True\n",
        "except ImportError:\n",
        "    GOOGLE_COLAB = False"
      ]
    },
    {
      "cell_type": "code",
      "source": [
        "if GOOGLE_COLAB:\n",
        "    !pip install google-cloud-pubsub"
      ],
      "metadata": {
        "colab": {
          "base_uri": "https://localhost:8080/"
        },
        "id": "23YbQqfThOlj",
        "outputId": "d10913da-5192-43e3-f340-4b24d8076fb4"
      },
      "execution_count": 7,
      "outputs": [
        {
          "output_type": "stream",
          "name": "stdout",
          "text": [
            "Requirement already satisfied: google-cloud-pubsub in /usr/local/lib/python3.10/dist-packages (2.18.4)\n",
            "Requirement already satisfied: grpcio<2.0dev,>=1.51.3 in /usr/local/lib/python3.10/dist-packages (from google-cloud-pubsub) (1.59.0)\n",
            "Requirement already satisfied: google-api-core[grpc]!=2.0.*,!=2.1.*,!=2.10.*,!=2.2.*,!=2.3.*,!=2.4.*,!=2.5.*,!=2.6.*,!=2.7.*,!=2.8.*,!=2.9.*,<3.0.0dev,>=1.34.0 in /usr/local/lib/python3.10/dist-packages (from google-cloud-pubsub) (2.11.1)\n",
            "Requirement already satisfied: proto-plus<2.0.0dev,>=1.22.0 in /usr/local/lib/python3.10/dist-packages (from google-cloud-pubsub) (1.22.3)\n",
            "Requirement already satisfied: protobuf!=3.20.0,!=3.20.1,!=4.21.0,!=4.21.1,!=4.21.2,!=4.21.3,!=4.21.4,!=4.21.5,<5.0.0dev,>=3.19.5 in /usr/local/lib/python3.10/dist-packages (from google-cloud-pubsub) (3.20.3)\n",
            "Requirement already satisfied: grpc-google-iam-v1<1.0.0dev,>=0.12.4 in /usr/local/lib/python3.10/dist-packages (from google-cloud-pubsub) (0.12.6)\n",
            "Requirement already satisfied: grpcio-status>=1.33.2 in /usr/local/lib/python3.10/dist-packages (from google-cloud-pubsub) (1.48.2)\n",
            "Requirement already satisfied: googleapis-common-protos<2.0.dev0,>=1.56.2 in /usr/local/lib/python3.10/dist-packages (from google-api-core[grpc]!=2.0.*,!=2.1.*,!=2.10.*,!=2.2.*,!=2.3.*,!=2.4.*,!=2.5.*,!=2.6.*,!=2.7.*,!=2.8.*,!=2.9.*,<3.0.0dev,>=1.34.0->google-cloud-pubsub) (1.61.0)\n",
            "Requirement already satisfied: google-auth<3.0.dev0,>=2.14.1 in /usr/local/lib/python3.10/dist-packages (from google-api-core[grpc]!=2.0.*,!=2.1.*,!=2.10.*,!=2.2.*,!=2.3.*,!=2.4.*,!=2.5.*,!=2.6.*,!=2.7.*,!=2.8.*,!=2.9.*,<3.0.0dev,>=1.34.0->google-cloud-pubsub) (2.17.3)\n",
            "Requirement already satisfied: requests<3.0.0.dev0,>=2.18.0 in /usr/local/lib/python3.10/dist-packages (from google-api-core[grpc]!=2.0.*,!=2.1.*,!=2.10.*,!=2.2.*,!=2.3.*,!=2.4.*,!=2.5.*,!=2.6.*,!=2.7.*,!=2.8.*,!=2.9.*,<3.0.0dev,>=1.34.0->google-cloud-pubsub) (2.31.0)\n",
            "Requirement already satisfied: cachetools<6.0,>=2.0.0 in /usr/local/lib/python3.10/dist-packages (from google-auth<3.0.dev0,>=2.14.1->google-api-core[grpc]!=2.0.*,!=2.1.*,!=2.10.*,!=2.2.*,!=2.3.*,!=2.4.*,!=2.5.*,!=2.6.*,!=2.7.*,!=2.8.*,!=2.9.*,<3.0.0dev,>=1.34.0->google-cloud-pubsub) (5.3.2)\n",
            "Requirement already satisfied: pyasn1-modules>=0.2.1 in /usr/local/lib/python3.10/dist-packages (from google-auth<3.0.dev0,>=2.14.1->google-api-core[grpc]!=2.0.*,!=2.1.*,!=2.10.*,!=2.2.*,!=2.3.*,!=2.4.*,!=2.5.*,!=2.6.*,!=2.7.*,!=2.8.*,!=2.9.*,<3.0.0dev,>=1.34.0->google-cloud-pubsub) (0.3.0)\n",
            "Requirement already satisfied: six>=1.9.0 in /usr/local/lib/python3.10/dist-packages (from google-auth<3.0.dev0,>=2.14.1->google-api-core[grpc]!=2.0.*,!=2.1.*,!=2.10.*,!=2.2.*,!=2.3.*,!=2.4.*,!=2.5.*,!=2.6.*,!=2.7.*,!=2.8.*,!=2.9.*,<3.0.0dev,>=1.34.0->google-cloud-pubsub) (1.16.0)\n",
            "Requirement already satisfied: rsa<5,>=3.1.4 in /usr/local/lib/python3.10/dist-packages (from google-auth<3.0.dev0,>=2.14.1->google-api-core[grpc]!=2.0.*,!=2.1.*,!=2.10.*,!=2.2.*,!=2.3.*,!=2.4.*,!=2.5.*,!=2.6.*,!=2.7.*,!=2.8.*,!=2.9.*,<3.0.0dev,>=1.34.0->google-cloud-pubsub) (4.9)\n",
            "Requirement already satisfied: charset-normalizer<4,>=2 in /usr/local/lib/python3.10/dist-packages (from requests<3.0.0.dev0,>=2.18.0->google-api-core[grpc]!=2.0.*,!=2.1.*,!=2.10.*,!=2.2.*,!=2.3.*,!=2.4.*,!=2.5.*,!=2.6.*,!=2.7.*,!=2.8.*,!=2.9.*,<3.0.0dev,>=1.34.0->google-cloud-pubsub) (3.3.1)\n",
            "Requirement already satisfied: idna<4,>=2.5 in /usr/local/lib/python3.10/dist-packages (from requests<3.0.0.dev0,>=2.18.0->google-api-core[grpc]!=2.0.*,!=2.1.*,!=2.10.*,!=2.2.*,!=2.3.*,!=2.4.*,!=2.5.*,!=2.6.*,!=2.7.*,!=2.8.*,!=2.9.*,<3.0.0dev,>=1.34.0->google-cloud-pubsub) (3.4)\n",
            "Requirement already satisfied: urllib3<3,>=1.21.1 in /usr/local/lib/python3.10/dist-packages (from requests<3.0.0.dev0,>=2.18.0->google-api-core[grpc]!=2.0.*,!=2.1.*,!=2.10.*,!=2.2.*,!=2.3.*,!=2.4.*,!=2.5.*,!=2.6.*,!=2.7.*,!=2.8.*,!=2.9.*,<3.0.0dev,>=1.34.0->google-cloud-pubsub) (2.0.7)\n",
            "Requirement already satisfied: certifi>=2017.4.17 in /usr/local/lib/python3.10/dist-packages (from requests<3.0.0.dev0,>=2.18.0->google-api-core[grpc]!=2.0.*,!=2.1.*,!=2.10.*,!=2.2.*,!=2.3.*,!=2.4.*,!=2.5.*,!=2.6.*,!=2.7.*,!=2.8.*,!=2.9.*,<3.0.0dev,>=1.34.0->google-cloud-pubsub) (2023.7.22)\n",
            "Requirement already satisfied: pyasn1<0.6.0,>=0.4.6 in /usr/local/lib/python3.10/dist-packages (from pyasn1-modules>=0.2.1->google-auth<3.0.dev0,>=2.14.1->google-api-core[grpc]!=2.0.*,!=2.1.*,!=2.10.*,!=2.2.*,!=2.3.*,!=2.4.*,!=2.5.*,!=2.6.*,!=2.7.*,!=2.8.*,!=2.9.*,<3.0.0dev,>=1.34.0->google-cloud-pubsub) (0.5.0)\n"
          ]
        }
      ]
    },
    {
      "cell_type": "code",
      "source": [
        "if GOOGLE_COLAB:\n",
        "    auth.authenticate_user()"
      ],
      "metadata": {
        "colab": {
          "base_uri": "https://localhost:8080/",
          "height": 193
        },
        "id": "GYnPP-tShPS9",
        "outputId": "2487d9bf-259c-4b2e-91b8-13a9d0293531"
      },
      "execution_count": 5,
      "outputs": [
        {
          "output_type": "error",
          "ename": "NameError",
          "evalue": "ignored",
          "traceback": [
            "\u001b[0;31m---------------------------------------------------------------------------\u001b[0m",
            "\u001b[0;31mNameError\u001b[0m                                 Traceback (most recent call last)",
            "\u001b[0;32m<ipython-input-5-e9e91de421e5>\u001b[0m in \u001b[0;36m<cell line: 1>\u001b[0;34m()\u001b[0m\n\u001b[0;32m----> 1\u001b[0;31m \u001b[0;32mif\u001b[0m \u001b[0mGOOGLE_COLAB\u001b[0m\u001b[0;34m:\u001b[0m\u001b[0;34m\u001b[0m\u001b[0;34m\u001b[0m\u001b[0m\n\u001b[0m\u001b[1;32m      2\u001b[0m     \u001b[0mauth\u001b[0m\u001b[0;34m.\u001b[0m\u001b[0mauthenticate_user\u001b[0m\u001b[0;34m(\u001b[0m\u001b[0;34m)\u001b[0m\u001b[0;34m\u001b[0m\u001b[0;34m\u001b[0m\u001b[0m\n",
            "\u001b[0;31mNameError\u001b[0m: name 'GOOGLE_COLAB' is not defined"
          ]
        }
      ]
    },
    {
      "cell_type": "code",
      "source": [
        "from google import auth\n",
        "from google.cloud import storage\n",
        "from google.cloud import pubsub_v1\n",
        "\n",
        "import datetime, time\n",
        "import subprocess\n",
        "import argparse\n",
        "import os, sys\n",
        "import json"
      ],
      "metadata": {
        "id": "01dGYlcUicHK"
      },
      "execution_count": 4,
      "outputs": []
    },
    {
      "cell_type": "code",
      "source": [
        "import pandas as pd\n",
        "from pandas_datareader import data as pdr\n",
        "import numpy as np\n",
        "import datetime , time\n",
        "from math import sqrt\n",
        "from scipy.stats import norm\n",
        "import yfinance as yf"
      ],
      "metadata": {
        "id": "vSNJzHP9h-9C"
      },
      "execution_count": 5,
      "outputs": []
    },
    {
      "cell_type": "code",
      "source": [
        "STOCK=\"AMZN\"\n",
        "short_window = 40\n",
        "long_window = 100\n",
        "trading_days = 500\n",
        "sim_num = 100000000\n",
        "portfolio_stocks_list = [\"GOOG\",\"MSFT\",\"NFLX\",\"TSLA\",\"IBM\",\"AMZN\"]\n",
        "portfolio_capital=100000\n",
        "lookback_days=730"
      ],
      "metadata": {
        "id": "2GD-ktHviDSq"
      },
      "execution_count": 71,
      "outputs": []
    },
    {
      "cell_type": "code",
      "source": [
        "import uuid\n",
        "sim_id = str(uuid.uuid4())"
      ],
      "metadata": {
        "id": "C4ccwgsRiFB6"
      },
      "execution_count": 7,
      "outputs": []
    },
    {
      "cell_type": "code",
      "source": [
        "period_end=datetime.datetime.now()"
      ],
      "metadata": {
        "id": "5e9QLXzLiL-0"
      },
      "execution_count": 8,
      "outputs": []
    },
    {
      "cell_type": "code",
      "source": [
        "period_start = period_end - datetime.timedelta(days=lookback_days)"
      ],
      "metadata": {
        "id": "XPRqIOxmi6fb"
      },
      "execution_count": 9,
      "outputs": []
    },
    {
      "cell_type": "code",
      "source": [
        "yf.pdr_override()\n",
        "stock_df = pdr.get_data_yahoo(STOCK,start=period_start, end=period_end)"
      ],
      "metadata": {
        "colab": {
          "base_uri": "https://localhost:8080/"
        },
        "id": "Juz6b73Ejps8",
        "outputId": "614fb5d4-651c-40e7-da48-c1ae5b52de77"
      },
      "execution_count": 10,
      "outputs": [
        {
          "output_type": "stream",
          "name": "stdout",
          "text": [
            "\r[*********************100%%**********************]  1 of 1 completed\n"
          ]
        }
      ]
    },
    {
      "cell_type": "code",
      "source": [
        "# Calculate the compound annual growth rate (CAGR) which\n",
        "# will give us our mean return input (mu)\n",
        "days = (stock_df.index[-1] - stock_df.index[0]).days\n",
        "cagr = ((((stock_df['Adj Close'][-1]) / stock_df['Adj Close'][1])) ** (365.0/days)) - 1\n",
        "mu = cagr"
      ],
      "metadata": {
        "id": "JMkXQEUHqcdy"
      },
      "execution_count": 11,
      "outputs": []
    },
    {
      "cell_type": "code",
      "source": [
        "stock_df['Returns'] = stock_df['Adj Close'].pct_change()\n",
        "vol = stock_df['Returns'].std()*sqrt(252)"
      ],
      "metadata": {
        "id": "UwvDxTr2jymI"
      },
      "execution_count": 12,
      "outputs": []
    },
    {
      "cell_type": "code",
      "source": [
        "initial_capital= float(portfolio_capital)"
      ],
      "metadata": {
        "id": "NcwXWyl8j3uy"
      },
      "execution_count": 13,
      "outputs": []
    },
    {
      "cell_type": "code",
      "source": [
        "# Set up empty list to hold our ending values for each simulated price series\n",
        "sim_result = []\n",
        "\n",
        "# Set up empty list to hold portfolio value for each simulated price serries, this is the value of position['total']\n",
        "portfolio_total = []"
      ],
      "metadata": {
        "id": "fm7QTNSSj9WF"
      },
      "execution_count": 57,
      "outputs": []
    },
    {
      "cell_type": "code",
      "source": [
        "# Define Variables\n",
        "start_price = stock_df['Adj Close'][-1] #starting stock price (i.e. last available real stock price)"
      ],
      "metadata": {
        "id": "FoBGaRGKkEZ6"
      },
      "execution_count": 15,
      "outputs": []
    },
    {
      "cell_type": "code",
      "source": [
        "from typing import Callable\n",
        "\n",
        "# Define GCP Environment\n",
        "project_id = \"fsif-330919\"\n",
        "topic_id = \"QU1\"\n",
        "\n",
        "publisher = pubsub_v1.PublisherClient()\n",
        "topic_path = publisher.topic_path(project_id, topic_id)\n",
        "publish_futures = []"
      ],
      "metadata": {
        "id": "QRuDcnWQk7w4"
      },
      "execution_count": 24,
      "outputs": []
    },
    {
      "cell_type": "code",
      "source": [
        "def get_callback(publish_future: pubsub_v1.publisher.futures.Future, data: str) -> Callable[[pubsub_v1.publisher.futures.Future], None]:\n",
        "\n",
        "  def pub_callback(publish_future: pubsub_v1.publisher.futures.Future) -> None:\n",
        "    try:\n",
        "      # Wait 60 seconds for the publish call to succeed.\n",
        "      #print(publish_future.result(timeout=60))\n",
        "      publish_future.result(timeout=60)\n",
        "    except futures.TimeoutError:\n",
        "      print(f\"Publishing {data} timed out.\")\n",
        "\n",
        "  return pub_callback"
      ],
      "metadata": {
        "id": "-hq8whiilPQD"
      },
      "execution_count": 72,
      "outputs": []
    },
    {
      "cell_type": "code",
      "source": [
        "def sub_callback(message: pubsub_v1.subscriber.message.Message) -> None:\n",
        "  \"\"\"Process received message\"\"\"\n",
        "  print(f\"Received message: ID={message.message_id} Data={message.data}\")\n",
        "  print(f\"[{datetime.datetime.now()}] Processing: {message.message_id}\")\n",
        "  sim_data = json.loads(message.data)\n",
        "  sim_num          = sim_data[\"sim_num\"]\n",
        "  sim_result.append(sim_data[\"stock_price\"])\n",
        "  portfolio_total.append(sim_data[\"portfolio_value\"])\n",
        "  print(f\"[{datetime.datetime.now()}] Processed: {message.message_id}\")\n",
        "  message.ack()"
      ],
      "metadata": {
        "id": "2FADa7n3tpDJ"
      },
      "execution_count": 18,
      "outputs": []
    },
    {
      "cell_type": "code",
      "source": [
        "for i in range(sim_num):\n",
        "  data = f'{{ \"sim_id\": \"{sim_id}\", \"sim_num\": {i}, \"stock\": \"{STOCK}\", \"short_window\": {short_window}, \"long_window\": {long_window}, \"trading_days\": {trading_days}, \"start_price\": {start_price}, \"lookback_days\": {lookback_days}, \"mu\": {mu}, \"vol\": {vol}, \"initial_capital\": {initial_capital}  }}'\n",
        "  #print(data)\n",
        "  publish_future = publisher.publish(topic_path, data.encode(\"utf-8\"))\n",
        "  # Non-blocking. Publish failures are handled in the callback function.\n",
        "  publish_future.add_done_callback(get_callback(publish_future, data))\n",
        "  publish_futures.append(publish_future)\n",
        "\n",
        "print(f\"Published {i} messages with error handler to {topic_path}.\")\n"
      ],
      "metadata": {
        "colab": {
          "base_uri": "https://localhost:8080/"
        },
        "id": "QOYOwc0Lln8w",
        "outputId": "603bd708-be6d-4f2c-fdd5-cbac34880214"
      },
      "execution_count": null,
      "outputs": [
        {
          "output_type": "stream",
          "name": "stderr",
          "text": [
            "WARNING:urllib3.connectionpool:Connection pool is full, discarding connection: metadata.google.internal. Connection pool size: 10\n",
            "WARNING:urllib3.connectionpool:Connection pool is full, discarding connection: metadata.google.internal. Connection pool size: 10\n",
            "WARNING:urllib3.connectionpool:Connection pool is full, discarding connection: metadata.google.internal. Connection pool size: 10\n",
            "WARNING:urllib3.connectionpool:Connection pool is full, discarding connection: metadata.google.internal. Connection pool size: 10\n",
            "WARNING:urllib3.connectionpool:Connection pool is full, discarding connection: metadata.google.internal. Connection pool size: 10\n",
            "WARNING:urllib3.connectionpool:Connection pool is full, discarding connection: metadata.google.internal. Connection pool size: 10\n",
            "WARNING:urllib3.connectionpool:Connection pool is full, discarding connection: metadata.google.internal. Connection pool size: 10\n",
            "WARNING:urllib3.connectionpool:Connection pool is full, discarding connection: metadata.google.internal. Connection pool size: 10\n",
            "WARNING:urllib3.connectionpool:Connection pool is full, discarding connection: metadata.google.internal. Connection pool size: 10\n",
            "WARNING:urllib3.connectionpool:Connection pool is full, discarding connection: metadata.google.internal. Connection pool size: 10\n",
            "WARNING:urllib3.connectionpool:Connection pool is full, discarding connection: metadata.google.internal. Connection pool size: 10\n",
            "WARNING:urllib3.connectionpool:Connection pool is full, discarding connection: metadata.google.internal. Connection pool size: 10\n",
            "WARNING:urllib3.connectionpool:Connection pool is full, discarding connection: metadata.google.internal. Connection pool size: 10\n",
            "WARNING:urllib3.connectionpool:Connection pool is full, discarding connection: metadata.google.internal. Connection pool size: 10\n",
            "WARNING:urllib3.connectionpool:Connection pool is full, discarding connection: metadata.google.internal. Connection pool size: 10\n",
            "WARNING:urllib3.connectionpool:Connection pool is full, discarding connection: metadata.google.internal. Connection pool size: 10\n",
            "WARNING:urllib3.connectionpool:Connection pool is full, discarding connection: metadata.google.internal. Connection pool size: 10\n",
            "WARNING:urllib3.connectionpool:Connection pool is full, discarding connection: metadata.google.internal. Connection pool size: 10\n",
            "WARNING:urllib3.connectionpool:Connection pool is full, discarding connection: metadata.google.internal. Connection pool size: 10\n",
            "WARNING:urllib3.connectionpool:Connection pool is full, discarding connection: metadata.google.internal. Connection pool size: 10\n"
          ]
        }
      ]
    },
    {
      "cell_type": "code",
      "source": [
        "from google.api_core import retry"
      ],
      "metadata": {
        "id": "S1v1LfTLK3BB"
      },
      "execution_count": 2,
      "outputs": []
    },
    {
      "cell_type": "code",
      "source": [
        "r_topic_id = \"QU1R\"\n",
        "subscription_id = f'{r_topic_id}-sub1'\n",
        "\n",
        "subscriber = pubsub_v1.SubscriberClient()\n",
        "subscription_path = subscriber.subscription_path(project_id, subscription_id)"
      ],
      "metadata": {
        "colab": {
          "base_uri": "https://localhost:8080/",
          "height": 227
        },
        "id": "oR3YqlSEIxaK",
        "outputId": "261c299c-77df-4cd3-aa4a-536ec133b896"
      },
      "execution_count": 3,
      "outputs": [
        {
          "output_type": "error",
          "ename": "NameError",
          "evalue": "ignored",
          "traceback": [
            "\u001b[0;31m---------------------------------------------------------------------------\u001b[0m",
            "\u001b[0;31mNameError\u001b[0m                                 Traceback (most recent call last)",
            "\u001b[0;32m<ipython-input-3-dd6e9543bffb>\u001b[0m in \u001b[0;36m<cell line: 4>\u001b[0;34m()\u001b[0m\n\u001b[1;32m      2\u001b[0m \u001b[0msubscription_id\u001b[0m \u001b[0;34m=\u001b[0m \u001b[0;34mf'{r_topic_id}-sub1'\u001b[0m\u001b[0;34m\u001b[0m\u001b[0;34m\u001b[0m\u001b[0m\n\u001b[1;32m      3\u001b[0m \u001b[0;34m\u001b[0m\u001b[0m\n\u001b[0;32m----> 4\u001b[0;31m \u001b[0msubscriber\u001b[0m \u001b[0;34m=\u001b[0m \u001b[0mpubsub_v1\u001b[0m\u001b[0;34m.\u001b[0m\u001b[0mSubscriberClient\u001b[0m\u001b[0;34m(\u001b[0m\u001b[0;34m)\u001b[0m\u001b[0;34m\u001b[0m\u001b[0;34m\u001b[0m\u001b[0m\n\u001b[0m\u001b[1;32m      5\u001b[0m \u001b[0msubscription_path\u001b[0m \u001b[0;34m=\u001b[0m \u001b[0msubscriber\u001b[0m\u001b[0;34m.\u001b[0m\u001b[0msubscription_path\u001b[0m\u001b[0;34m(\u001b[0m\u001b[0mproject_id\u001b[0m\u001b[0;34m,\u001b[0m \u001b[0msubscription_id\u001b[0m\u001b[0;34m)\u001b[0m\u001b[0;34m\u001b[0m\u001b[0;34m\u001b[0m\u001b[0m\n",
            "\u001b[0;31mNameError\u001b[0m: name 'pubsub_v1' is not defined"
          ]
        }
      ]
    },
    {
      "cell_type": "code",
      "source": [
        "\"\"\"\n",
        "streaming_pull_future = subscriber.subscribe(subscription_path, callback=sub_callback,max_messages=sim_num)\n",
        "print(f\"Pulling messages from {subscription_path}..., in project:{project_id}\")\n",
        "\n",
        "with subscriber:\n",
        "  try:\n",
        "    streaming_pull_future.result()\n",
        "  except Exception as e:\n",
        "    print(e)\n",
        "\"\"\""
      ],
      "metadata": {
        "id": "G0KUFam5rAiA",
        "colab": {
          "base_uri": "https://localhost:8080/",
          "height": 53
        },
        "outputId": "b7d7c720-8dab-4279-856d-95a61acd3808"
      },
      "execution_count": 44,
      "outputs": [
        {
          "output_type": "execute_result",
          "data": {
            "text/plain": [
              "'\\nstreaming_pull_future = subscriber.subscribe(subscription_path, callback=sub_callback,max_messages=sim_num)\\nprint(f\"Pulling messages from {subscription_path}..., in project:{project_id}\")\\n\\nwith subscriber:\\n  try:\\n    streaming_pull_future.result()\\n  except Exception as e:\\n    print(e)\\n'"
            ],
            "application/vnd.google.colaboratory.intrinsic+json": {
              "type": "string"
            }
          },
          "metadata": {},
          "execution_count": 44
        }
      ]
    },
    {
      "cell_type": "code",
      "source": [
        "with subscriber:\n",
        "  # The subscriber pulls a specific number of messages. The actual\n",
        "  # number of messages pulled may be smaller than max_messages.\n",
        "  response = subscriber.pull(\n",
        "    request={\"subscription\": subscription_path, \"max_messages\": sim_num},\n",
        "    retry=retry.Retry(deadline=300),\n",
        "  )\n",
        "\n",
        "  if len(response.received_messages) != 0:\n",
        "    ack_ids = []\n",
        "    for received_message in response.received_messages:\n",
        "      print(f\"Received: {received_message.message.data}.\")\n",
        "      sim_data = json.loads(received_message.message.data)\n",
        "      sim_num  = sim_data[\"sim_num\"]\n",
        "      sim_result.append(sim_data[\"stock_price\"])\n",
        "      portfolio_total.append(sim_data[\"portfolio_value\"])\n",
        "\n",
        "    ack_ids.append(received_message.ack_id)\n",
        "    # Acknowledges the received messages so they will not be sent again.\n",
        "    subscriber.acknowledge(request={\"subscription\": subscription_path, \"ack_ids\": ack_ids})\n",
        "\n",
        "    print(f\"Received and acknowledged {len(response.received_messages)} messages from {subscription_path}.\")\n",
        "  else:\n",
        "    print(f\"Received {len(response.received_messages)} messages from {subscription_path}.\")\n"
      ],
      "metadata": {
        "colab": {
          "base_uri": "https://localhost:8080/"
        },
        "id": "-n-ugDzlIAv1",
        "outputId": "d952a606-2a96-4307-aaba-f0fb728a6cc2"
      },
      "execution_count": 67,
      "outputs": [
        {
          "output_type": "stream",
          "name": "stdout",
          "text": [
            "Received: b'{ \"sim_num\": 79913, \"stock_price\": 80.03377622915976, \"portfolio_value\": 94051.42458821402 }'.\n",
            "Received: b'{ \"sim_num\": 23688, \"stock_price\": 70.9769840808192, \"portfolio_value\": 95620.10537310578 }'.\n",
            "Received: b'{ \"sim_num\": 17700, \"stock_price\": 70.38625365805342, \"portfolio_value\": 97005.61241025639 }'.\n",
            "Received: b'{ \"sim_num\": 38182, \"stock_price\": 74.89970328271244, \"portfolio_value\": 95976.64960701298 }'.\n",
            "Received: b'{ \"sim_num\": 88170, \"stock_price\": 119.41021059819091, \"portfolio_value\": 101048.8733202055 }'.\n",
            "Received: b'{ \"sim_num\": 89201, \"stock_price\": 197.22267437985377, \"portfolio_value\": 94570.90591285311 }'.\n",
            "Received: b'{ \"sim_num\": 26693, \"stock_price\": 151.50156426491628, \"portfolio_value\": 101771.64250639261 }'.\n",
            "Received: b'{ \"sim_num\": 26542, \"stock_price\": 154.3290264343383, \"portfolio_value\": 97756.76202996065 }'.\n",
            "Received: b'{ \"sim_num\": 23861, \"stock_price\": 164.648503694788, \"portfolio_value\": 98746.2536977105 }'.\n",
            "Received: b'{ \"sim_num\": 93693, \"stock_price\": 108.61468899203962, \"portfolio_value\": 98984.42504506443 }'.\n",
            "Received: b'{ \"sim_num\": 88379, \"stock_price\": 163.22711386319705, \"portfolio_value\": 98237.83395207569 }'.\n",
            "Received: b'{ \"sim_num\": 98967, \"stock_price\": 82.74038070245864, \"portfolio_value\": 99053.09455191076 }'.\n",
            "Received: b'{ \"sim_num\": 62937, \"stock_price\": 142.11925237627966, \"portfolio_value\": 98402.44947588134 }'.\n",
            "Received: b'{ \"sim_num\": 65226, \"stock_price\": 123.41897413018563, \"portfolio_value\": 93510.14826272271 }'.\n",
            "Received: b'{ \"sim_num\": 36247, \"stock_price\": 391.912949926656, \"portfolio_value\": 118258.89659897158 }'.\n",
            "Received: b'{ \"sim_num\": 56739, \"stock_price\": 182.06895037491262, \"portfolio_value\": 100177.85128356519 }'.\n",
            "Received: b'{ \"sim_num\": 20640, \"stock_price\": 171.99418524308524, \"portfolio_value\": 100371.38262804791 }'.\n",
            "Received: b'{ \"sim_num\": 70007, \"stock_price\": 63.37912076533631, \"portfolio_value\": 98526.83285295514 }'.\n",
            "Received: b'{ \"sim_num\": 73534, \"stock_price\": 167.57227602047217, \"portfolio_value\": 98904.31727035923 }'.\n",
            "Received: b'{ \"sim_num\": 23041, \"stock_price\": 143.7621203077548, \"portfolio_value\": 101779.56097933189 }'.\n",
            "Received: b'{ \"sim_num\": 20711, \"stock_price\": 82.97324162343764, \"portfolio_value\": 95385.00375171014 }'.\n",
            "Received: b'{ \"sim_num\": 25062, \"stock_price\": 91.80924651772025, \"portfolio_value\": 100996.70623639645 }'.\n",
            "Received: b'{ \"sim_num\": 71358, \"stock_price\": 96.14281724943079, \"portfolio_value\": 99745.64878936368 }'.\n",
            "Received: b'{ \"sim_num\": 94567, \"stock_price\": 93.63470340515093, \"portfolio_value\": 95732.7558191778 }'.\n",
            "Received: b'{ \"sim_num\": 10809, \"stock_price\": 111.31013449969585, \"portfolio_value\": 100341.12352108155 }'.\n",
            "Received: b'{ \"sim_num\": 10811, \"stock_price\": 50.53638915521791, \"portfolio_value\": 98899.01792725666 }'.\n",
            "Received: b'{ \"sim_num\": 10810, \"stock_price\": 228.58887232728557, \"portfolio_value\": 102927.0861787854 }'.\n",
            "Received: b'{ \"sim_num\": 10919, \"stock_price\": 158.0623821463016, \"portfolio_value\": 93140.65537009804 }'.\n",
            "Received: b'{ \"sim_num\": 10918, \"stock_price\": 69.29240771181956, \"portfolio_value\": 98942.56885727867 }'.\n",
            "Received: b'{ \"sim_num\": 10920, \"stock_price\": 67.26261513823272, \"portfolio_value\": 98868.1279691249 }'.\n",
            "Received: b'{ \"sim_num\": 10916, \"stock_price\": 163.90280016210147, \"portfolio_value\": 98127.38856675189 }'.\n",
            "Received: b'{ \"sim_num\": 10915, \"stock_price\": 92.36147362256115, \"portfolio_value\": 96090.41733570566 }'.\n",
            "Received: b'{ \"sim_num\": 11136, \"stock_price\": 52.66821238632493, \"portfolio_value\": 100727.12080650323 }'.\n",
            "Received: b'{ \"sim_num\": 11139, \"stock_price\": 103.5871763059797, \"portfolio_value\": 97474.03480884875 }'.\n",
            "Received: b'{ \"sim_num\": 11137, \"stock_price\": 102.30553607934918, \"portfolio_value\": 99644.49371966603 }'.\n",
            "Received: b'{ \"sim_num\": 13136, \"stock_price\": 191.40227773321024, \"portfolio_value\": 106525.49783249423 }'.\n",
            "Received: b'{ \"sim_num\": 13139, \"stock_price\": 111.97480640841918, \"portfolio_value\": 95271.77262261113 }'.\n",
            "Received: b'{ \"sim_num\": 13140, \"stock_price\": 70.53341499811447, \"portfolio_value\": 99052.01197136712 }'.\n",
            "Received: b'{ \"sim_num\": 13142, \"stock_price\": 115.68677565654832, \"portfolio_value\": 100121.89860803464 }'.\n",
            "Received: b'{ \"sim_num\": 13173, \"stock_price\": 66.02872792197033, \"portfolio_value\": 98306.66695084111 }'.\n",
            "Received: b'{ \"sim_num\": 13177, \"stock_price\": 88.38035481516248, \"portfolio_value\": 101269.55314743266 }'.\n",
            "Received: b'{ \"sim_num\": 20894, \"stock_price\": 81.41834741857377, \"portfolio_value\": 99089.82047682966 }'.\n",
            "Received: b'{ \"sim_num\": 20896, \"stock_price\": 185.92709491692082, \"portfolio_value\": 101977.284085859 }'.\n",
            "Received: b'{ \"sim_num\": 20895, \"stock_price\": 146.2396296590377, \"portfolio_value\": 96262.77541863802 }'.\n",
            "Received: b'{ \"sim_num\": 13218, \"stock_price\": 97.92092250307653, \"portfolio_value\": 94176.62394679908 }'.\n",
            "Received: b'{ \"sim_num\": 13217, \"stock_price\": 126.43830463204841, \"portfolio_value\": 96996.13319677114 }'.\n",
            "Received: b'{ \"sim_num\": 13216, \"stock_price\": 83.710962646399, \"portfolio_value\": 97338.2416013987 }'.\n",
            "Received: b'{ \"sim_num\": 13220, \"stock_price\": 231.44181650286768, \"portfolio_value\": 102899.59494435914 }'.\n",
            "Received: b'{ \"sim_num\": 13221, \"stock_price\": 105.62741670928231, \"portfolio_value\": 94491.64611620398 }'.\n",
            "Received: b'{ \"sim_num\": 13272, \"stock_price\": 80.87887820820694, \"portfolio_value\": 98956.48357360178 }'.\n",
            "Received: b'{ \"sim_num\": 13273, \"stock_price\": 51.89913205101909, \"portfolio_value\": 95607.61506356247 }'.\n",
            "Received: b'{ \"sim_num\": 42188, \"stock_price\": 95.11703622295522, \"portfolio_value\": 100668.09338641944 }'.\n",
            "Received: b'{ \"sim_num\": 43355, \"stock_price\": 100.0172609277135, \"portfolio_value\": 100428.35442409618 }'.\n",
            "Received: b'{ \"sim_num\": 43353, \"stock_price\": 76.06693852569977, \"portfolio_value\": 97322.07680287179 }'.\n",
            "Received: b'{ \"sim_num\": 43361, \"stock_price\": 180.82625231705543, \"portfolio_value\": 98021.35047040894 }'.\n",
            "Received: b'{ \"sim_num\": 43354, \"stock_price\": 37.343853352476756, \"portfolio_value\": 100055.66611160975 }'.\n",
            "Received: b'{ \"sim_num\": 43364, \"stock_price\": 123.67964769388837, \"portfolio_value\": 95043.88199797881 }'.\n",
            "Received: b'{ \"sim_num\": 43362, \"stock_price\": 90.25235885417355, \"portfolio_value\": 97519.36877980162 }'.\n",
            "Received: b'{ \"sim_num\": 43357, \"stock_price\": 86.30401257687599, \"portfolio_value\": 96294.91564963096 }'.\n",
            "Received: b'{ \"sim_num\": 43359, \"stock_price\": 152.38772999711222, \"portfolio_value\": 99622.53706840405 }'.\n",
            "Received: b'{ \"sim_num\": 43374, \"stock_price\": 126.11164668218503, \"portfolio_value\": 100881.32388950497 }'.\n",
            "Received: b'{ \"sim_num\": 13531, \"stock_price\": 136.0728103145627, \"portfolio_value\": 95176.19952241785 }'.\n",
            "Received: b'{ \"sim_num\": 13535, \"stock_price\": 80.70289785260574, \"portfolio_value\": 97962.63672165935 }'.\n",
            "Received: b'{ \"sim_num\": 19653, \"stock_price\": 215.19310629165028, \"portfolio_value\": 109594.44743533235 }'.\n",
            "Received: b'{ \"sim_num\": 11381, \"stock_price\": 93.31517973006457, \"portfolio_value\": 96412.13111530713 }'.\n",
            "Received: b'{ \"sim_num\": 11492, \"stock_price\": 212.65068367486992, \"portfolio_value\": 109041.79296268859 }'.\n",
            "Received: b'{ \"sim_num\": 11502, \"stock_price\": 121.45412146103746, \"portfolio_value\": 94955.45700474658 }'.\n",
            "Received: b'{ \"sim_num\": 20125, \"stock_price\": 60.77081428288586, \"portfolio_value\": 98624.61670985451 }'.\n",
            "Received: b'{ \"sim_num\": 20123, \"stock_price\": 131.43112582552357, \"portfolio_value\": 100305.13669319332 }'.\n",
            "Received: b'{ \"sim_num\": 13766, \"stock_price\": 136.02388731645402, \"portfolio_value\": 95857.91532815028 }'.\n",
            "Received: b'{ \"sim_num\": 11764, \"stock_price\": 133.3683543134815, \"portfolio_value\": 102675.10347210905 }'.\n",
            "Received: b'{ \"sim_num\": 20225, \"stock_price\": 115.44786195419049, \"portfolio_value\": 103578.5328356453 }'.\n",
            "Received: b'{ \"sim_num\": 24464, \"stock_price\": 131.20140209728677, \"portfolio_value\": 97843.02936779543 }'.\n",
            "Received: b'{ \"sim_num\": 20370, \"stock_price\": 116.91885744571924, \"portfolio_value\": 99636.04652657393 }'.\n",
            "Received: b'{ \"sim_num\": 12097, \"stock_price\": 98.80768480692664, \"portfolio_value\": 98077.44245525941 }'.\n",
            "Received: b'{ \"sim_num\": 34275, \"stock_price\": 120.73258975287759, \"portfolio_value\": 102723.16141359572 }'.\n",
            "Received: b'{ \"sim_num\": 12142, \"stock_price\": 137.87811823448837, \"portfolio_value\": 96282.44505324759 }'.\n",
            "Received: b'{ \"sim_num\": 37568, \"stock_price\": 114.38581943606883, \"portfolio_value\": 100037.56921574 }'.\n",
            "Received: b'{ \"sim_num\": 24655, \"stock_price\": 227.90343134140187, \"portfolio_value\": 108267.33956962966 }'.\n",
            "Received: b'{ \"sim_num\": 46103, \"stock_price\": 120.24297887988169, \"portfolio_value\": 94837.55548556772 }'.\n",
            "Received: b'{ \"sim_num\": 46105, \"stock_price\": 112.15664508762889, \"portfolio_value\": 97291.69371032788 }'.\n",
            "Received: b'{ \"sim_num\": 12220, \"stock_price\": 55.32476795593793, \"portfolio_value\": 98199.99760535028 }'.\n",
            "Received: b'{ \"sim_num\": 24665, \"stock_price\": 78.95984926254978, \"portfolio_value\": 96515.76148043231 }'.\n",
            "Received: b'{ \"sim_num\": 24666, \"stock_price\": 131.1634388821689, \"portfolio_value\": 96277.98660221149 }'.\n",
            "Received: b'{ \"sim_num\": 34417, \"stock_price\": 77.40431420309663, \"portfolio_value\": 100781.47557260339 }'.\n",
            "Received: b'{ \"sim_num\": 46074, \"stock_price\": 128.044206422468, \"portfolio_value\": 98493.65871613215 }'.\n",
            "Received: b'{ \"sim_num\": 46110, \"stock_price\": 145.24333297293296, \"portfolio_value\": 101534.7102651385 }'.\n",
            "Received: b'{ \"sim_num\": 34328, \"stock_price\": 98.35801349237337, \"portfolio_value\": 97125.01724812531 }'.\n",
            "Received: b'{ \"sim_num\": 34338, \"stock_price\": 142.02754729791687, \"portfolio_value\": 99273.1563122873 }'.\n",
            "Received: b'{ \"sim_num\": 34434, \"stock_price\": 89.38585668884386, \"portfolio_value\": 99101.83115265315 }'.\n",
            "Received: b'{ \"sim_num\": 34476, \"stock_price\": 263.1776361710133, \"portfolio_value\": 110228.30523565493 }'.\n",
            "Received: b'{ \"sim_num\": 13998, \"stock_price\": 75.02456896829614, \"portfolio_value\": 99681.38144252135 }'.\n",
            "Received: b'{ \"sim_num\": 20718, \"stock_price\": 98.52110013038724, \"portfolio_value\": 100567.22582748228 }'.\n",
            "Received: b'{ \"sim_num\": 19279, \"stock_price\": 126.52753169794549, \"portfolio_value\": 98401.33560511736 }'.\n",
            "Received: b'{ \"sim_num\": 37698, \"stock_price\": 139.26223662000496, \"portfolio_value\": 101919.38154590865 }'.\n",
            "Received: b'{ \"sim_num\": 37691, \"stock_price\": 83.26664766934005, \"portfolio_value\": 96403.22540114855 }'.\n",
            "Received: b'{ \"sim_num\": 37690, \"stock_price\": 148.42574554683117, \"portfolio_value\": 102817.601799311 }'.\n",
            "Received: b'{ \"sim_num\": 34605, \"stock_price\": 64.0339574313328, \"portfolio_value\": 96113.38295704762 }'.\n",
            "Received: b'{ \"sim_num\": 36618, \"stock_price\": 100.20171280991507, \"portfolio_value\": 97333.12054532458 }'.\n",
            "Received: b'{ \"sim_num\": 55099, \"stock_price\": 137.95429786701646, \"portfolio_value\": 109488.37382239761 }'.\n",
            "Received: b'{ \"sim_num\": 55102, \"stock_price\": 103.89441591295451, \"portfolio_value\": 99718.30696234752 }'.\n",
            "Received: b'{ \"sim_num\": 55101, \"stock_price\": 104.06271918015679, \"portfolio_value\": 99420.10541348631 }'.\n",
            "Received: b'{ \"sim_num\": 20783, \"stock_price\": 143.5872373716421, \"portfolio_value\": 97328.54742008523 }'.\n",
            "Received: b'{ \"sim_num\": 37711, \"stock_price\": 122.85272602590753, \"portfolio_value\": 94109.1080039516 }'.\n",
            "Received: b'{ \"sim_num\": 37713, \"stock_price\": 79.48246263855505, \"portfolio_value\": 96856.0984323366 }'.\n",
            "Received: b'{ \"sim_num\": 37714, \"stock_price\": 154.19470709643798, \"portfolio_value\": 104061.17322587388 }'.\n",
            "Received: b'{ \"sim_num\": 68207, \"stock_price\": 94.61448887029475, \"portfolio_value\": 100251.71057519589 }'.\n",
            "Received: b'{ \"sim_num\": 22092, \"stock_price\": 159.0631343474663, \"portfolio_value\": 102968.64668436207 }'.\n",
            "Received: b'{ \"sim_num\": 34636, \"stock_price\": 82.18017460461566, \"portfolio_value\": 98085.60202707276 }'.\n",
            "Received: b'{ \"sim_num\": 62368, \"stock_price\": 72.0952137747088, \"portfolio_value\": 98091.80185914892 }'.\n",
            "Received: b'{ \"sim_num\": 68002, \"stock_price\": 89.91462600483108, \"portfolio_value\": 97146.85219319703 }'.\n",
            "Received: b'{ \"sim_num\": 57397, \"stock_price\": 102.79068185052769, \"portfolio_value\": 102359.01191123232 }'.\n",
            "Received: b'{ \"sim_num\": 57409, \"stock_price\": 160.78974899211565, \"portfolio_value\": 104240.94284105429 }'.\n",
            "Received: b'{ \"sim_num\": 61878, \"stock_price\": 128.75792686306374, \"portfolio_value\": 96825.01096067058 }'.\n",
            "Received: b'{ \"sim_num\": 57435, \"stock_price\": 170.41369210945047, \"portfolio_value\": 102634.81532571475 }'.\n",
            "Received: b'{ \"sim_num\": 22418, \"stock_price\": 83.33225700326486, \"portfolio_value\": 99587.42651049151 }'.\n",
            "Received: b'{ \"sim_num\": 21369, \"stock_price\": 38.43832156036766, \"portfolio_value\": 98446.68441229408 }'.\n",
            "Received: b'{ \"sim_num\": 21370, \"stock_price\": 184.92740461552657, \"portfolio_value\": 98531.77270325927 }'.\n",
            "Received: b'{ \"sim_num\": 22552, \"stock_price\": 148.9816896245523, \"portfolio_value\": 93867.02335843418 }'.\n",
            "Received: b'{ \"sim_num\": 70012, \"stock_price\": 113.91389229684226, \"portfolio_value\": 94229.43602160948 }'.\n",
            "Received: b'{ \"sim_num\": 21320, \"stock_price\": 201.7723655174326, \"portfolio_value\": 102303.89398358912 }'.\n",
            "Received: b'{ \"sim_num\": 21321, \"stock_price\": 68.2328641636478, \"portfolio_value\": 98839.94676730044 }'.\n",
            "Received: b'{ \"sim_num\": 21319, \"stock_price\": 133.54752158220842, \"portfolio_value\": 98832.37511214093 }'.\n",
            "Received: b'{ \"sim_num\": 22714, \"stock_price\": 162.21173985873415, \"portfolio_value\": 97921.3532175372 }'.\n",
            "Received: b'{ \"sim_num\": 70042, \"stock_price\": 127.02320566814599, \"portfolio_value\": 98153.75754704972 }'.\n",
            "Received: b'{ \"sim_num\": 92168, \"stock_price\": 98.89177699930706, \"portfolio_value\": 97627.22403028341 }'.\n",
            "Received: b'{ \"sim_num\": 34960, \"stock_price\": 59.03770546443329, \"portfolio_value\": 94787.88972662526 }'.\n",
            "Received: b'{ \"sim_num\": 43517, \"stock_price\": 129.7052959145131, \"portfolio_value\": 97921.21729598966 }'.\n",
            "Received: b'{ \"sim_num\": 62694, \"stock_price\": 89.78347231501196, \"portfolio_value\": 97544.88764051176 }'.\n",
            "Received: b'{ \"sim_num\": 72570, \"stock_price\": 136.30016521659437, \"portfolio_value\": 101829.6112071485 }'.\n",
            "Received: b'{ \"sim_num\": 87888, \"stock_price\": 106.1963241407365, \"portfolio_value\": 95316.56592702137 }'.\n",
            "Received: b'{ \"sim_num\": 12911, \"stock_price\": 73.48314205675904, \"portfolio_value\": 96343.92483610462 }'.\n",
            "Received: b'{ \"sim_num\": 23303, \"stock_price\": 250.17445707119805, \"portfolio_value\": 105811.31002455659 }'.\n",
            "Received: b'{ \"sim_num\": 35315, \"stock_price\": 139.46053063805104, \"portfolio_value\": 95707.43866569235 }'.\n",
            "Received: b'{ \"sim_num\": 35326, \"stock_price\": 119.25513476511611, \"portfolio_value\": 98945.91063928559 }'.\n",
            "Received: b'{ \"sim_num\": 15662, \"stock_price\": 51.105968934552344, \"portfolio_value\": 99913.75467894219 }'.\n",
            "Received: b'{ \"sim_num\": 25762, \"stock_price\": 53.57914253305695, \"portfolio_value\": 96044.64451064226 }'.\n",
            "Received: b'{ \"sim_num\": 25559, \"stock_price\": 73.06637572553979, \"portfolio_value\": 98898.5152663423 }'.\n",
            "Received: b'{ \"sim_num\": 63030, \"stock_price\": 117.71051155720423, \"portfolio_value\": 94704.66766036663 }'.\n",
            "Received: b'{ \"sim_num\": 23558, \"stock_price\": 77.93091200629166, \"portfolio_value\": 99749.19065210535 }'.\n",
            "Received: b'{ \"sim_num\": 16633, \"stock_price\": 175.45731383170607, \"portfolio_value\": 103211.75068737255 }'.\n",
            "Received: b'{ \"sim_num\": 16634, \"stock_price\": 72.3439667578233, \"portfolio_value\": 98225.31642251641 }'.\n",
            "Received: b'{ \"sim_num\": 94068, \"stock_price\": 56.95719863732984, \"portfolio_value\": 96415.73057002183 }'.\n",
            "Received: b'{ \"sim_num\": 94094, \"stock_price\": 119.84755875584216, \"portfolio_value\": 98957.96723668044 }'.\n",
            "Received: b'{ \"sim_num\": 89078, \"stock_price\": 31.28920514524553, \"portfolio_value\": 100000.0 }'.\n",
            "Received: b'{ \"sim_num\": 35600, \"stock_price\": 170.5833273443974, \"portfolio_value\": 103256.64293881532 }'.\n",
            "Received: b'{ \"sim_num\": 35628, \"stock_price\": 157.86772865629462, \"portfolio_value\": 96151.48844582408 }'.\n",
            "Received: b'{ \"sim_num\": 34751, \"stock_price\": 84.17276077990371, \"portfolio_value\": 99444.66647608514 }'.\n",
            "Received and acknowledged 148 messages from projects/fsif-330919/subscriptions/QU1R-sub1.\n"
          ]
        }
      ]
    },
    {
      "cell_type": "code",
      "source": [
        "import matplotlib.pyplot as plt"
      ],
      "metadata": {
        "id": "5BfUDnW2Wu_X"
      },
      "execution_count": 58,
      "outputs": []
    },
    {
      "cell_type": "code",
      "source": [
        "#create histogram of ending stock values for our mutliple simulations\n",
        "plt.rcParams[\"figure.figsize\"] = (9,8)\n",
        "plt.hist(sim_result,bins=50)\n",
        "plt.suptitle('Monte Carlo Simulation Results', fontsize=20)\n",
        "plt.xlabel('Stock Value $')\n",
        "plt.show()\n",
        "\n",
        "#create histogram of ending protfolio values for our mutliple simulations, compare this value to \"initial_capital\"\n",
        "plt.hist(portfolio_total,bins=50)\n",
        "plt.suptitle('Portfolio Simulated Results (based on $100K investment / ' + str(trading_days) + ' days)', fontsize=20)\n",
        "plt.xlabel('Portfolio Value $')\n",
        "plt.show()"
      ],
      "metadata": {
        "id": "oU7CD1aG2rL8",
        "colab": {
          "base_uri": "https://localhost:8080/",
          "height": 1000
        },
        "outputId": "f5124610-2bc1-4a79-9822-face79f6bf12"
      },
      "execution_count": 68,
      "outputs": [
        {
          "output_type": "display_data",
          "data": {
            "text/plain": [
              "<Figure size 900x800 with 1 Axes>"
            ],
            "image/png": "[encoded data removed]"
          },
          "metadata": {}
        },
        {
          "output_type": "display_data",
          "data": {
            "text/plain": [
              "<Figure size 900x800 with 1 Axes>"
            ],
            "image/png": "[encoded data removed]"
          },
          "metadata": {}
        }
      ]
    }
  ]
}
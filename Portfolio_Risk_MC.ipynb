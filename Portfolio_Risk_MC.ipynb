{
  "nbformat": 4,
  "nbformat_minor": 0,
  "metadata": {
    "colab": {
      "provenance": [],
      "authorship_tag": "ABX9TyPpCMs4oK7i1D5J9OCc3MmN",
      "include_colab_link": true
    },
    "kernelspec": {
      "name": "python3",
      "display_name": "Python 3"
    },
    "language_info": {
      "name": "python"
    }
  },
  "cells": [
    {
      "cell_type": "markdown",
      "metadata": {
        "id": "view-in-github",
        "colab_type": "text"
      },
      "source": [
        "<a href=\"https://colab.research.google.com/github/pagnihot/pa-pub-test/blob/main/Portfolio_Risk_MC.ipynb\" target=\"_parent\"><img src=\"https://colab.research.google.com/assets/colab-badge.svg\" alt=\"Open In Colab\"/></a>"
      ]
    },
    {
      "cell_type": "code",
      "execution_count": 1,
      "metadata": {
        "id": "UVcD-LpNg0qE"
      },
      "outputs": [],
      "source": [
        "try:\n",
        "    from google.colab import auth\n",
        "    GOOGLE_COLAB = True\n",
        "except ImportError:\n",
        "    GOOGLE_COLAB = False"
      ]
    },
    {
      "cell_type": "code",
      "source": [
        "if GOOGLE_COLAB:\n",
        "    !pip install google-cloud-pubsub"
      ],
      "metadata": {
        "colab": {
          "base_uri": "https://localhost:8080/"
        },
        "id": "23YbQqfThOlj",
        "outputId": "e53b6454-082a-4399-bb25-e4e9ab711661"
      },
      "execution_count": 56,
      "outputs": [
        {
          "output_type": "stream",
          "name": "stdout",
          "text": [
            "Requirement already satisfied: google-cloud-pubsub in /usr/local/lib/python3.10/dist-packages (2.18.4)\n",
            "Requirement already satisfied: grpcio<2.0dev,>=1.51.3 in /usr/local/lib/python3.10/dist-packages (from google-cloud-pubsub) (1.59.0)\n",
            "Requirement already satisfied: google-api-core[grpc]!=2.0.*,!=2.1.*,!=2.10.*,!=2.2.*,!=2.3.*,!=2.4.*,!=2.5.*,!=2.6.*,!=2.7.*,!=2.8.*,!=2.9.*,<3.0.0dev,>=1.34.0 in /usr/local/lib/python3.10/dist-packages (from google-cloud-pubsub) (2.11.1)\n",
            "Requirement already satisfied: proto-plus<2.0.0dev,>=1.22.0 in /usr/local/lib/python3.10/dist-packages (from google-cloud-pubsub) (1.22.3)\n",
            "Requirement already satisfied: protobuf!=3.20.0,!=3.20.1,!=4.21.0,!=4.21.1,!=4.21.2,!=4.21.3,!=4.21.4,!=4.21.5,<5.0.0dev,>=3.19.5 in /usr/local/lib/python3.10/dist-packages (from google-cloud-pubsub) (3.20.3)\n",
            "Requirement already satisfied: grpc-google-iam-v1<1.0.0dev,>=0.12.4 in /usr/local/lib/python3.10/dist-packages (from google-cloud-pubsub) (0.12.6)\n",
            "Requirement already satisfied: grpcio-status>=1.33.2 in /usr/local/lib/python3.10/dist-packages (from google-cloud-pubsub) (1.48.2)\n",
            "Requirement already satisfied: googleapis-common-protos<2.0.dev0,>=1.56.2 in /usr/local/lib/python3.10/dist-packages (from google-api-core[grpc]!=2.0.*,!=2.1.*,!=2.10.*,!=2.2.*,!=2.3.*,!=2.4.*,!=2.5.*,!=2.6.*,!=2.7.*,!=2.8.*,!=2.9.*,<3.0.0dev,>=1.34.0->google-cloud-pubsub) (1.61.0)\n",
            "Requirement already satisfied: google-auth<3.0.dev0,>=2.14.1 in /usr/local/lib/python3.10/dist-packages (from google-api-core[grpc]!=2.0.*,!=2.1.*,!=2.10.*,!=2.2.*,!=2.3.*,!=2.4.*,!=2.5.*,!=2.6.*,!=2.7.*,!=2.8.*,!=2.9.*,<3.0.0dev,>=1.34.0->google-cloud-pubsub) (2.17.3)\n",
            "Requirement already satisfied: requests<3.0.0.dev0,>=2.18.0 in /usr/local/lib/python3.10/dist-packages (from google-api-core[grpc]!=2.0.*,!=2.1.*,!=2.10.*,!=2.2.*,!=2.3.*,!=2.4.*,!=2.5.*,!=2.6.*,!=2.7.*,!=2.8.*,!=2.9.*,<3.0.0dev,>=1.34.0->google-cloud-pubsub) (2.31.0)\n",
            "Requirement already satisfied: cachetools<6.0,>=2.0.0 in /usr/local/lib/python3.10/dist-packages (from google-auth<3.0.dev0,>=2.14.1->google-api-core[grpc]!=2.0.*,!=2.1.*,!=2.10.*,!=2.2.*,!=2.3.*,!=2.4.*,!=2.5.*,!=2.6.*,!=2.7.*,!=2.8.*,!=2.9.*,<3.0.0dev,>=1.34.0->google-cloud-pubsub) (5.3.2)\n",
            "Requirement already satisfied: pyasn1-modules>=0.2.1 in /usr/local/lib/python3.10/dist-packages (from google-auth<3.0.dev0,>=2.14.1->google-api-core[grpc]!=2.0.*,!=2.1.*,!=2.10.*,!=2.2.*,!=2.3.*,!=2.4.*,!=2.5.*,!=2.6.*,!=2.7.*,!=2.8.*,!=2.9.*,<3.0.0dev,>=1.34.0->google-cloud-pubsub) (0.3.0)\n",
            "Requirement already satisfied: six>=1.9.0 in /usr/local/lib/python3.10/dist-packages (from google-auth<3.0.dev0,>=2.14.1->google-api-core[grpc]!=2.0.*,!=2.1.*,!=2.10.*,!=2.2.*,!=2.3.*,!=2.4.*,!=2.5.*,!=2.6.*,!=2.7.*,!=2.8.*,!=2.9.*,<3.0.0dev,>=1.34.0->google-cloud-pubsub) (1.16.0)\n",
            "Requirement already satisfied: rsa<5,>=3.1.4 in /usr/local/lib/python3.10/dist-packages (from google-auth<3.0.dev0,>=2.14.1->google-api-core[grpc]!=2.0.*,!=2.1.*,!=2.10.*,!=2.2.*,!=2.3.*,!=2.4.*,!=2.5.*,!=2.6.*,!=2.7.*,!=2.8.*,!=2.9.*,<3.0.0dev,>=1.34.0->google-cloud-pubsub) (4.9)\n",
            "Requirement already satisfied: charset-normalizer<4,>=2 in /usr/local/lib/python3.10/dist-packages (from requests<3.0.0.dev0,>=2.18.0->google-api-core[grpc]!=2.0.*,!=2.1.*,!=2.10.*,!=2.2.*,!=2.3.*,!=2.4.*,!=2.5.*,!=2.6.*,!=2.7.*,!=2.8.*,!=2.9.*,<3.0.0dev,>=1.34.0->google-cloud-pubsub) (3.3.1)\n",
            "Requirement already satisfied: idna<4,>=2.5 in /usr/local/lib/python3.10/dist-packages (from requests<3.0.0.dev0,>=2.18.0->google-api-core[grpc]!=2.0.*,!=2.1.*,!=2.10.*,!=2.2.*,!=2.3.*,!=2.4.*,!=2.5.*,!=2.6.*,!=2.7.*,!=2.8.*,!=2.9.*,<3.0.0dev,>=1.34.0->google-cloud-pubsub) (3.4)\n",
            "Requirement already satisfied: urllib3<3,>=1.21.1 in /usr/local/lib/python3.10/dist-packages (from requests<3.0.0.dev0,>=2.18.0->google-api-core[grpc]!=2.0.*,!=2.1.*,!=2.10.*,!=2.2.*,!=2.3.*,!=2.4.*,!=2.5.*,!=2.6.*,!=2.7.*,!=2.8.*,!=2.9.*,<3.0.0dev,>=1.34.0->google-cloud-pubsub) (2.0.7)\n",
            "Requirement already satisfied: certifi>=2017.4.17 in /usr/local/lib/python3.10/dist-packages (from requests<3.0.0.dev0,>=2.18.0->google-api-core[grpc]!=2.0.*,!=2.1.*,!=2.10.*,!=2.2.*,!=2.3.*,!=2.4.*,!=2.5.*,!=2.6.*,!=2.7.*,!=2.8.*,!=2.9.*,<3.0.0dev,>=1.34.0->google-cloud-pubsub) (2023.7.22)\n",
            "Requirement already satisfied: pyasn1<0.6.0,>=0.4.6 in /usr/local/lib/python3.10/dist-packages (from pyasn1-modules>=0.2.1->google-auth<3.0.dev0,>=2.14.1->google-api-core[grpc]!=2.0.*,!=2.1.*,!=2.10.*,!=2.2.*,!=2.3.*,!=2.4.*,!=2.5.*,!=2.6.*,!=2.7.*,!=2.8.*,!=2.9.*,<3.0.0dev,>=1.34.0->google-cloud-pubsub) (0.5.0)\n"
          ]
        }
      ]
    },
    {
      "cell_type": "code",
      "source": [
        "if GOOGLE_COLAB:\n",
        "    auth.authenticate_user()"
      ],
      "metadata": {
        "colab": {
          "base_uri": "https://localhost:8080/",
          "height": 193
        },
        "id": "GYnPP-tShPS9",
        "outputId": "b7a38f48-1d17-47fc-a95e-61902beded29"
      },
      "execution_count": 55,
      "outputs": [
        {
          "output_type": "error",
          "ename": "AttributeError",
          "evalue": "ignored",
          "traceback": [
            "\u001b[0;31m---------------------------------------------------------------------------\u001b[0m",
            "\u001b[0;31mAttributeError\u001b[0m                            Traceback (most recent call last)",
            "\u001b[0;32m<ipython-input-55-e9e91de421e5>\u001b[0m in \u001b[0;36m<cell line: 1>\u001b[0;34m()\u001b[0m\n\u001b[1;32m      1\u001b[0m \u001b[0;32mif\u001b[0m \u001b[0mGOOGLE_COLAB\u001b[0m\u001b[0;34m:\u001b[0m\u001b[0;34m\u001b[0m\u001b[0;34m\u001b[0m\u001b[0m\n\u001b[0;32m----> 2\u001b[0;31m     \u001b[0mauth\u001b[0m\u001b[0;34m.\u001b[0m\u001b[0mauthenticate_user\u001b[0m\u001b[0;34m(\u001b[0m\u001b[0;34m)\u001b[0m\u001b[0;34m\u001b[0m\u001b[0;34m\u001b[0m\u001b[0m\n\u001b[0m",
            "\u001b[0;31mAttributeError\u001b[0m: module 'google.auth' has no attribute 'authenticate_user'"
          ]
        }
      ]
    },
    {
      "cell_type": "code",
      "source": [
        "from google import auth\n",
        "from google.cloud import storage\n",
        "\n",
        "import datetime, time\n",
        "import subprocess\n",
        "import argparse\n",
        "import os, sys\n",
        "import json"
      ],
      "metadata": {
        "id": "01dGYlcUicHK"
      },
      "execution_count": 57,
      "outputs": []
    },
    {
      "cell_type": "code",
      "source": [
        "import pandas as pd\n",
        "from pandas_datareader import data as pdr\n",
        "import numpy as np\n",
        "import datetime , time\n",
        "from math import sqrt\n",
        "from scipy.stats import norm\n",
        "import yfinance as yf"
      ],
      "metadata": {
        "id": "vSNJzHP9h-9C"
      },
      "execution_count": 58,
      "outputs": []
    },
    {
      "cell_type": "code",
      "source": [
        "STOCK=\"AMZN\"\n",
        "short_window = 40\n",
        "long_window = 100\n",
        "trading_days = 500\n",
        "sim_num = 10\n",
        "portfolio_stocks_list = [\"GOOG\",\"MSFT\",\"NFLX\",\"TSLA\",\"IBM\",\"AMZN\",\"\"]\n",
        "portfolio_capital=100000\n",
        "lookback_days=730"
      ],
      "metadata": {
        "id": "2GD-ktHviDSq"
      },
      "execution_count": 59,
      "outputs": []
    },
    {
      "cell_type": "code",
      "source": [
        "import uuid\n",
        "sim_id = str(uuid.uuid4())"
      ],
      "metadata": {
        "id": "C4ccwgsRiFB6"
      },
      "execution_count": 60,
      "outputs": []
    },
    {
      "cell_type": "code",
      "source": [
        "period_end=datetime.datetime.now()"
      ],
      "metadata": {
        "id": "5e9QLXzLiL-0"
      },
      "execution_count": 61,
      "outputs": []
    },
    {
      "cell_type": "code",
      "source": [
        "period_start = period_end - datetime.timedelta(days=lookback_days)"
      ],
      "metadata": {
        "id": "XPRqIOxmi6fb"
      },
      "execution_count": 62,
      "outputs": []
    },
    {
      "cell_type": "code",
      "source": [
        "yf.pdr_override()\n",
        "stock_df = pdr.get_data_yahoo(STOCK,start=period_start, end=period_end)"
      ],
      "metadata": {
        "colab": {
          "base_uri": "https://localhost:8080/"
        },
        "id": "Juz6b73Ejps8",
        "outputId": "6b4c0873-6332-4802-f9ad-735fe6e6d2a1"
      },
      "execution_count": 63,
      "outputs": [
        {
          "output_type": "stream",
          "name": "stdout",
          "text": [
            "\r[*********************100%%**********************]  1 of 1 completed\n"
          ]
        }
      ]
    },
    {
      "cell_type": "code",
      "source": [
        "# Calculate the compound annual growth rate (CAGR) which\n",
        "# will give us our mean return input (mu)\n",
        "days = (stock_df.index[-1] - stock_df.index[0]).days\n",
        "cagr = ((((stock_df['Adj Close'][-1]) / stock_df['Adj Close'][1])) ** (365.0/days)) - 1\n",
        "mu = cagr"
      ],
      "metadata": {
        "id": "JMkXQEUHqcdy"
      },
      "execution_count": 64,
      "outputs": []
    },
    {
      "cell_type": "code",
      "source": [
        "stock_df['Returns'] = stock_df['Adj Close'].pct_change()\n",
        "vol = stock_df['Returns'].std()*sqrt(252)"
      ],
      "metadata": {
        "id": "UwvDxTr2jymI"
      },
      "execution_count": 65,
      "outputs": []
    },
    {
      "cell_type": "code",
      "source": [
        "initial_capital= float(portfolio_capital)"
      ],
      "metadata": {
        "id": "NcwXWyl8j3uy"
      },
      "execution_count": 66,
      "outputs": []
    },
    {
      "cell_type": "code",
      "source": [
        "# Set up empty list to hold our ending values for each simulated price series\n",
        "sim_result = []\n",
        "\n",
        "# Set up empty list to hold portfolio value for each simulated price serries, this is the value of position['total']\n",
        "portfolio_total = []"
      ],
      "metadata": {
        "id": "fm7QTNSSj9WF"
      },
      "execution_count": 67,
      "outputs": []
    },
    {
      "cell_type": "code",
      "source": [
        "# Define Variables\n",
        "start_price = stock_df['Adj Close'][-1] #starting stock price (i.e. last available real stock price)"
      ],
      "metadata": {
        "id": "FoBGaRGKkEZ6"
      },
      "execution_count": 68,
      "outputs": []
    },
    {
      "cell_type": "code",
      "source": [
        "from concurrent import futures\n",
        "from google.cloud import pubsub_v1\n",
        "from typing import Callable"
      ],
      "metadata": {
        "id": "NPIN2FZp-AP_"
      },
      "execution_count": 69,
      "outputs": []
    },
    {
      "cell_type": "code",
      "source": [
        "# Define GCP Environment\n",
        "project_id = \"fsif-330919\"\n",
        "topic_id = \"QU1\"\n",
        "subscription_id = f'{topic_id}-sub1'\n",
        "\n",
        "subscriber = pubsub_v1.SubscriberClient()\n",
        "subscription_path = subscriber.subscription_path(project_id, subscription_id)\n",
        "\n",
        "publisher = pubsub_v1.PublisherClient()\n",
        "topic_path = publisher.topic_path(project_id, topic_id)\n",
        "publish_futures = []"
      ],
      "metadata": {
        "id": "QRuDcnWQk7w4"
      },
      "execution_count": 70,
      "outputs": []
    },
    {
      "cell_type": "code",
      "source": [
        "def get_callback(publish_future: pubsub_v1.publisher.futures.Future, data: str) -> Callable[[pubsub_v1.publisher.futures.Future], None]:\n",
        "\n",
        "  def pub_callback(publish_future: pubsub_v1.publisher.futures.Future) -> None:\n",
        "    try:\n",
        "      # Wait 60 seconds for the publish call to succeed.\n",
        "      print(publish_future.result(timeout=60))\n",
        "    except futures.TimeoutError:\n",
        "      print(f\"Publishing {data} timed out.\")\n",
        "\n",
        "  return pub_callback"
      ],
      "metadata": {
        "id": "-hq8whiilPQD"
      },
      "execution_count": 71,
      "outputs": []
    },
    {
      "cell_type": "code",
      "source": [
        "def sub_callback(message: pubsub_v1.subscriber.message.Message) -> None:\n",
        "  \"\"\"Process received message\"\"\"\n",
        "  print(f\"Received message: ID={message.message_id} Data={message.data}\")\n",
        "  print(f\"[{datetime.datetime.now()}] Processing: {message.message_id}\")\n",
        "  sim_data = json.loads(message.data)\n",
        "  sim_num          = sim_data[\"sim_num\"]\n",
        "  sim_result.append(sim_data[\"stock_price\"])\n",
        "  portfolio_total.append(sim_data[\"portfolio_value\"])\n",
        "  print(f\"[{datetime.datetime.now()}] Processed: {message.message_id}\")\n",
        "  message.ack()"
      ],
      "metadata": {
        "id": "2FADa7n3tpDJ"
      },
      "execution_count": 72,
      "outputs": []
    },
    {
      "cell_type": "code",
      "source": [
        "for i in range(sim_num):\n",
        "  data = f'{{ \"sim_id\": \"{sim_id}\", \"sim_num\": {i}, \"stock\": \"{STOCK}\", \"short_window\": {short_window}, \"long_window\": {long_window}, \"trading_days\": {trading_days}, \"start_price\": {start_price}, \"lookback_days\": {lookback_days}, \"mu\": {mu}, \"vol\": {vol}, \"initial_capital\": {initial_capital}  }}'\n",
        "  print(data)\n",
        "  publish_future = publisher.publish(topic_path, data.encode(\"utf-8\"))\n",
        "  # Non-blocking. Publish failures are handled in the callback function.\n",
        "  publish_future.add_done_callback(get_callback(publish_future, data))\n",
        "  publish_futures.append(publish_future)\n",
        "\n",
        "print(f\"Published {i} messages with error handler to {topic_path}.\")\n",
        ""
      ],
      "metadata": {
        "colab": {
          "base_uri": "https://localhost:8080/"
        },
        "id": "QOYOwc0Lln8w",
        "outputId": "5810cc83-097b-4d4c-9587-aa0d5a11ccdb"
      },
      "execution_count": 74,
      "outputs": [
        {
          "output_type": "stream",
          "name": "stdout",
          "text": [
            "{ \"sim_id\": \"992d348d-ce69-4a7f-a16f-a4006e6951ab\", \"sim_num\": 0, \"stock\": \"AMZN\", \"short_window\": 40, \"long_window\": 100, \"trading_days\": 500, \"start_price\": 133.08999633789062, \"lookback_days\": 730, \"mu\": -0.10375197793841895, \"vol\": 0.42759959137708875, \"initial_capital\": 100000.0  }\n",
            "{ \"sim_id\": \"992d348d-ce69-4a7f-a16f-a4006e6951ab\", \"sim_num\": 1, \"stock\": \"AMZN\", \"short_window\": 40, \"long_window\": 100, \"trading_days\": 500, \"start_price\": 133.08999633789062, \"lookback_days\": 730, \"mu\": -0.10375197793841895, \"vol\": 0.42759959137708875, \"initial_capital\": 100000.0  }\n",
            "{ \"sim_id\": \"992d348d-ce69-4a7f-a16f-a4006e6951ab\", \"sim_num\": 2, \"stock\": \"AMZN\", \"short_window\": 40, \"long_window\": 100, \"trading_days\": 500, \"start_price\": 133.08999633789062, \"lookback_days\": 730, \"mu\": -0.10375197793841895, \"vol\": 0.42759959137708875, \"initial_capital\": 100000.0  }\n",
            "{ \"sim_id\": \"992d348d-ce69-4a7f-a16f-a4006e6951ab\", \"sim_num\": 3, \"stock\": \"AMZN\", \"short_window\": 40, \"long_window\": 100, \"trading_days\": 500, \"start_price\": 133.08999633789062, \"lookback_days\": 730, \"mu\": -0.10375197793841895, \"vol\": 0.42759959137708875, \"initial_capital\": 100000.0  }\n",
            "{ \"sim_id\": \"992d348d-ce69-4a7f-a16f-a4006e6951ab\", \"sim_num\": 4, \"stock\": \"AMZN\", \"short_window\": 40, \"long_window\": 100, \"trading_days\": 500, \"start_price\": 133.08999633789062, \"lookback_days\": 730, \"mu\": -0.10375197793841895, \"vol\": 0.42759959137708875, \"initial_capital\": 100000.0  }\n",
            "{ \"sim_id\": \"992d348d-ce69-4a7f-a16f-a4006e6951ab\", \"sim_num\": 5, \"stock\": \"AMZN\", \"short_window\": 40, \"long_window\": 100, \"trading_days\": 500, \"start_price\": 133.08999633789062, \"lookback_days\": 730, \"mu\": -0.10375197793841895, \"vol\": 0.42759959137708875, \"initial_capital\": 100000.0  }\n",
            "{ \"sim_id\": \"992d348d-ce69-4a7f-a16f-a4006e6951ab\", \"sim_num\": 6, \"stock\": \"AMZN\", \"short_window\": 40, \"long_window\": 100, \"trading_days\": 500, \"start_price\": 133.08999633789062, \"lookback_days\": 730, \"mu\": -0.10375197793841895, \"vol\": 0.42759959137708875, \"initial_capital\": 100000.0  }\n",
            "{ \"sim_id\": \"992d348d-ce69-4a7f-a16f-a4006e6951ab\", \"sim_num\": 7, \"stock\": \"AMZN\", \"short_window\": 40, \"long_window\": 100, \"trading_days\": 500, \"start_price\": 133.08999633789062, \"lookback_days\": 730, \"mu\": -0.10375197793841895, \"vol\": 0.42759959137708875, \"initial_capital\": 100000.0  }\n",
            "{ \"sim_id\": \"992d348d-ce69-4a7f-a16f-a4006e6951ab\", \"sim_num\": 8, \"stock\": \"AMZN\", \"short_window\": 40, \"long_window\": 100, \"trading_days\": 500, \"start_price\": 133.08999633789062, \"lookback_days\": 730, \"mu\": -0.10375197793841895, \"vol\": 0.42759959137708875, \"initial_capital\": 100000.0  }\n",
            "{ \"sim_id\": \"992d348d-ce69-4a7f-a16f-a4006e6951ab\", \"sim_num\": 9, \"stock\": \"AMZN\", \"short_window\": 40, \"long_window\": 100, \"trading_days\": 500, \"start_price\": 133.08999633789062, \"lookback_days\": 730, \"mu\": -0.10375197793841895, \"vol\": 0.42759959137708875, \"initial_capital\": 100000.0  }\n",
            "Published 9 messages with error handler to projects/fsif-330919/topics/QU1.\n"
          ]
        }
      ]
    },
    {
      "cell_type": "code",
      "source": [
        "streaming_pull_future = subscriber.subscribe(subscription_path, callback=sub_callback)\n",
        "print(f\"Pulling messages from {subscription_path}..., in project:{project_id}\")\n",
        "\n",
        "with subscriber:\n",
        "  try:\n",
        "    streaming_pull_future.result()\n",
        "  except Exception as e:\n",
        "    print(e)"
      ],
      "metadata": {
        "id": "G0KUFam5rAiA"
      },
      "execution_count": null,
      "outputs": []
    },
    {
      "cell_type": "code",
      "source": [
        "#create histogram of ending stock values for our mutliple simulations\n",
        "plt.rcParams[\"figure.figsize\"] = (9,8)\n",
        "plt.hist(sim_result,bins=50)\n",
        "plt.suptitle('Monte Carlo Simulation Results', fontsize=20)\n",
        "plt.xlabel('Stock Value $')\n",
        "plt.show()\n",
        "\n",
        "#create histogram of ending protfolio values for our mutliple simulations, compare this value to \"initial_capital\"\n",
        "plt.hist(portfolio_total,bins=50)\n",
        "plt.suptitle('Portfolio Simulated Results (based on $100K investment / ' + str(trading_days) + ' days)', fontsize=20)\n",
        "plt.xlabel('Portfolio Value $')\n",
        "plt.show()"
      ],
      "metadata": {
        "id": "oU7CD1aG2rL8"
      },
      "execution_count": null,
      "outputs": []
    }
  ]
}